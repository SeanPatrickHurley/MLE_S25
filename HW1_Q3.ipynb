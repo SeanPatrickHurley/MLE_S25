{
  "nbformat": 4,
  "nbformat_minor": 0,
  "metadata": {
    "colab": {
      "provenance": [],
      "authorship_tag": "ABX9TyOifdk5UAJv/wwWLH7X2pdT",
      "include_colab_link": true
    },
    "kernelspec": {
      "name": "python3",
      "display_name": "Python 3"
    },
    "language_info": {
      "name": "python"
    }
  },
  "cells": [
    {
      "cell_type": "markdown",
      "metadata": {
        "id": "view-in-github",
        "colab_type": "text"
      },
      "source": [
        "<a href=\"https://colab.research.google.com/github/SeanPatrickHurley/MLE_S25/blob/main/HW1_Q3.ipynb\" target=\"_parent\"><img src=\"https://colab.research.google.com/assets/colab-badge.svg\" alt=\"Open In Colab\"/></a>"
      ]
    },
    {
      "cell_type": "markdown",
      "source": [
        "# Here is the function to be used, simiilar to HW1_Q1"
      ],
      "metadata": {
        "id": "pux1Pu5Kf1qZ"
      }
    },
    {
      "cell_type": "code",
      "execution_count": null,
      "metadata": {
        "id": "k93w8bgdaDXg"
      },
      "outputs": [],
      "source": [
        "import numpy as np\n",
        "\n",
        "def L_p(vec,p): #This gives the L_p norm from numpy commands\n",
        " return np.linalg.norm(vec, ord=p)"
      ]
    },
    {
      "cell_type": "markdown",
      "source": [
        "# Here is the raw data to be used"
      ],
      "metadata": {
        "id": "1QCdItf5hKEy"
      }
    },
    {
      "cell_type": "code",
      "source": [
        "W = np.array([[1, -1], [2, 0]])\n",
        "p_set = [1,2,np.inf,'fro']"
      ],
      "metadata": {
        "id": "srevQsGOhO4Z"
      },
      "execution_count": null,
      "outputs": []
    },
    {
      "cell_type": "markdown",
      "source": [
        "# Here is the output"
      ],
      "metadata": {
        "id": "eLg0eas7ipbd"
      }
    },
    {
      "cell_type": "code",
      "source": [
        "for i in range(len(p_set)):\n",
        "  print(f\"L_{p_set[i]} norm:\",L_p(W,p_set[i]))"
      ],
      "metadata": {
        "colab": {
          "base_uri": "https://localhost:8080/"
        },
        "id": "qep3Kt8TirjK",
        "outputId": "d9a45b8e-2609-4298-8566-4be985ff2b31"
      },
      "execution_count": null,
      "outputs": [
        {
          "output_type": "stream",
          "name": "stdout",
          "text": [
            "L_1 norm: 3.0\n",
            "L_2 norm: 2.2882456112707374\n",
            "L_inf norm: 2.0\n",
            "L_fro norm: 2.449489742783178\n"
          ]
        }
      ]
    }
  ]
}
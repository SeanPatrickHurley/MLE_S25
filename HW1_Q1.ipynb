{
  "nbformat": 4,
  "nbformat_minor": 0,
  "metadata": {
    "colab": {
      "provenance": [],
      "authorship_tag": "ABX9TyMn7a/OoxT1T27PpXrOfE5u",
      "include_colab_link": true
    },
    "kernelspec": {
      "name": "python3",
      "display_name": "Python 3"
    },
    "language_info": {
      "name": "python"
    }
  },
  "cells": [
    {
      "cell_type": "markdown",
      "metadata": {
        "id": "view-in-github",
        "colab_type": "text"
      },
      "source": [
        "<a href=\"https://colab.research.google.com/github/SeanPatrickHurley/MLE_S25/blob/main/HW1_Q1.ipynb\" target=\"_parent\"><img src=\"https://colab.research.google.com/assets/colab-badge.svg\" alt=\"Open In Colab\"/></a>"
      ]
    },
    {
      "cell_type": "markdown",
      "source": [
        "# Below are the functions we will be using"
      ],
      "metadata": {
        "id": "7VwTsALGUWr5"
      }
    },
    {
      "cell_type": "code",
      "execution_count": 11,
      "metadata": {
        "collapsed": true,
        "id": "S92SZu0DPwRt"
      },
      "outputs": [],
      "source": [
        "import numpy as np\n",
        "\n",
        "def vec_trans(vec): #Turns the lists in column numpy vectors for post processing\n",
        "  vec = np.array(vec)\n",
        "  vec = vec.reshape(-1,1)\n",
        "  return vec\n",
        "\n",
        "def L_p(vec,p): #This gives the L_p norm from numpy commands\n",
        "  return np.linalg.norm(vec, ord=p)         # L1 norm (sum of absolute values)\n",
        "\n",
        "\n"
      ]
    },
    {
      "cell_type": "markdown",
      "source": [
        "# Below are the x1 and x2 raw data"
      ],
      "metadata": {
        "id": "bbRrnRECT_nE"
      }
    },
    {
      "cell_type": "code",
      "source": [
        "x1 = [2,3,4,8,9]\n",
        "x2 = [2,-3,-4,89]\n",
        "p_set = [1,2,np.inf] #Set of values for L_p norm we want to use\n",
        "\n",
        "x1 = vec_trans(x1)\n",
        "x2 = vec_trans(x2)\n"
      ],
      "metadata": {
        "id": "qUEbtqrQT2dw"
      },
      "execution_count": 12,
      "outputs": []
    },
    {
      "cell_type": "markdown",
      "source": [
        "# Below are the final results printed"
      ],
      "metadata": {
        "id": "vZkTHOmKVWbQ"
      }
    },
    {
      "cell_type": "code",
      "source": [
        "for i in range(3):\n",
        "  print(f\"L_{p_set[i]} norm:\",L_p(x1,p_set[i]))\n",
        "  print(f\"L_{p_set[i]} norm:\",L_p(x2,p_set[i]))"
      ],
      "metadata": {
        "colab": {
          "base_uri": "https://localhost:8080/",
          "height": 0
        },
        "id": "_5rfiQJDVgwU",
        "outputId": "5b0dc956-2ce2-42ca-e8a0-f69ae2beb77e"
      },
      "execution_count": 14,
      "outputs": [
        {
          "output_type": "stream",
          "name": "stdout",
          "text": [
            "L_1 norm: 26.0\n",
            "L_1 norm: 98.0\n",
            "L_2 norm: 13.19090595827292\n",
            "L_2 norm: 89.16277250063504\n",
            "L_inf norm: 9.0\n",
            "L_inf norm: 89.0\n"
          ]
        }
      ]
    }
  ]
}